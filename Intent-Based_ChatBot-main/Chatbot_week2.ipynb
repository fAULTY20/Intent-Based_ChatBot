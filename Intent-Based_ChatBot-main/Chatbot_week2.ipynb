{
  "nbformat": 4,
  "nbformat_minor": 0,
  "metadata": {
    "colab": {
      "provenance": []
    },
    "kernelspec": {
      "name": "python3",
      "display_name": "Python 3"
    },
    "language_info": {
      "name": "python"
    }
  },
  "cells": [
    {
      "cell_type": "markdown",
      "source": [
        "# **Mount Google Drive and Install Dependencies**\n",
        "This section mounts your Google Drive to Colab so you can save files to it, and installs the necessary dependencies like `streamlit` for creating the chatbot interface and `localtunnel` for exposing the app to the web.\n"
      ],
      "metadata": {
        "id": "mHjPpj65EPJB"
      }
    },
    {
      "cell_type": "code",
      "execution_count": 1,
      "metadata": {
        "colab": {
          "base_uri": "https://localhost:8080/"
        },
        "collapsed": true,
        "id": "0WOmR_KIEOhB",
        "outputId": "233a96a6-db55-48c3-9b48-61390b62735d"
      },
      "outputs": [
        {
          "output_type": "stream",
          "name": "stdout",
          "text": [
            "Mounted at /content/drive\n",
            "Collecting streamlit\n",
            "  Downloading streamlit-1.41.1-py2.py3-none-any.whl.metadata (8.5 kB)\n",
            "Requirement already satisfied: altair<6,>=4.0 in /usr/local/lib/python3.10/dist-packages (from streamlit) (5.5.0)\n",
            "Requirement already satisfied: blinker<2,>=1.0.0 in /usr/local/lib/python3.10/dist-packages (from streamlit) (1.9.0)\n",
            "Requirement already satisfied: cachetools<6,>=4.0 in /usr/local/lib/python3.10/dist-packages (from streamlit) (5.5.0)\n",
            "Requirement already satisfied: click<9,>=7.0 in /usr/local/lib/python3.10/dist-packages (from streamlit) (8.1.7)\n",
            "Requirement already satisfied: numpy<3,>=1.23 in /usr/local/lib/python3.10/dist-packages (from streamlit) (1.26.4)\n",
            "Requirement already satisfied: packaging<25,>=20 in /usr/local/lib/python3.10/dist-packages (from streamlit) (24.2)\n",
            "Requirement already satisfied: pandas<3,>=1.4.0 in /usr/local/lib/python3.10/dist-packages (from streamlit) (2.2.2)\n",
            "Requirement already satisfied: pillow<12,>=7.1.0 in /usr/local/lib/python3.10/dist-packages (from streamlit) (11.0.0)\n",
            "Requirement already satisfied: protobuf<6,>=3.20 in /usr/local/lib/python3.10/dist-packages (from streamlit) (4.25.5)\n",
            "Requirement already satisfied: pyarrow>=7.0 in /usr/local/lib/python3.10/dist-packages (from streamlit) (17.0.0)\n",
            "Requirement already satisfied: requests<3,>=2.27 in /usr/local/lib/python3.10/dist-packages (from streamlit) (2.32.3)\n",
            "Requirement already satisfied: rich<14,>=10.14.0 in /usr/local/lib/python3.10/dist-packages (from streamlit) (13.9.4)\n",
            "Requirement already satisfied: tenacity<10,>=8.1.0 in /usr/local/lib/python3.10/dist-packages (from streamlit) (9.0.0)\n",
            "Requirement already satisfied: toml<2,>=0.10.1 in /usr/local/lib/python3.10/dist-packages (from streamlit) (0.10.2)\n",
            "Requirement already satisfied: typing-extensions<5,>=4.3.0 in /usr/local/lib/python3.10/dist-packages (from streamlit) (4.12.2)\n",
            "Collecting watchdog<7,>=2.1.5 (from streamlit)\n",
            "  Downloading watchdog-6.0.0-py3-none-manylinux2014_x86_64.whl.metadata (44 kB)\n",
            "\u001b[2K     \u001b[90m━━━━━━━━━━━━━━━━━━━━━━━━━━━━━━━━━━━━━━━━\u001b[0m \u001b[32m44.3/44.3 kB\u001b[0m \u001b[31m1.9 MB/s\u001b[0m eta \u001b[36m0:00:00\u001b[0m\n",
            "\u001b[?25hRequirement already satisfied: gitpython!=3.1.19,<4,>=3.0.7 in /usr/local/lib/python3.10/dist-packages (from streamlit) (3.1.43)\n",
            "Collecting pydeck<1,>=0.8.0b4 (from streamlit)\n",
            "  Downloading pydeck-0.9.1-py2.py3-none-any.whl.metadata (4.1 kB)\n",
            "Requirement already satisfied: tornado<7,>=6.0.3 in /usr/local/lib/python3.10/dist-packages (from streamlit) (6.3.3)\n",
            "Requirement already satisfied: jinja2 in /usr/local/lib/python3.10/dist-packages (from altair<6,>=4.0->streamlit) (3.1.4)\n",
            "Requirement already satisfied: jsonschema>=3.0 in /usr/local/lib/python3.10/dist-packages (from altair<6,>=4.0->streamlit) (4.23.0)\n",
            "Requirement already satisfied: narwhals>=1.14.2 in /usr/local/lib/python3.10/dist-packages (from altair<6,>=4.0->streamlit) (1.18.4)\n",
            "Requirement already satisfied: gitdb<5,>=4.0.1 in /usr/local/lib/python3.10/dist-packages (from gitpython!=3.1.19,<4,>=3.0.7->streamlit) (4.0.11)\n",
            "Requirement already satisfied: python-dateutil>=2.8.2 in /usr/local/lib/python3.10/dist-packages (from pandas<3,>=1.4.0->streamlit) (2.8.2)\n",
            "Requirement already satisfied: pytz>=2020.1 in /usr/local/lib/python3.10/dist-packages (from pandas<3,>=1.4.0->streamlit) (2024.2)\n",
            "Requirement already satisfied: tzdata>=2022.7 in /usr/local/lib/python3.10/dist-packages (from pandas<3,>=1.4.0->streamlit) (2024.2)\n",
            "Requirement already satisfied: charset-normalizer<4,>=2 in /usr/local/lib/python3.10/dist-packages (from requests<3,>=2.27->streamlit) (3.4.0)\n",
            "Requirement already satisfied: idna<4,>=2.5 in /usr/local/lib/python3.10/dist-packages (from requests<3,>=2.27->streamlit) (3.10)\n",
            "Requirement already satisfied: urllib3<3,>=1.21.1 in /usr/local/lib/python3.10/dist-packages (from requests<3,>=2.27->streamlit) (2.2.3)\n",
            "Requirement already satisfied: certifi>=2017.4.17 in /usr/local/lib/python3.10/dist-packages (from requests<3,>=2.27->streamlit) (2024.12.14)\n",
            "Requirement already satisfied: markdown-it-py>=2.2.0 in /usr/local/lib/python3.10/dist-packages (from rich<14,>=10.14.0->streamlit) (3.0.0)\n",
            "Requirement already satisfied: pygments<3.0.0,>=2.13.0 in /usr/local/lib/python3.10/dist-packages (from rich<14,>=10.14.0->streamlit) (2.18.0)\n",
            "Requirement already satisfied: smmap<6,>=3.0.1 in /usr/local/lib/python3.10/dist-packages (from gitdb<5,>=4.0.1->gitpython!=3.1.19,<4,>=3.0.7->streamlit) (5.0.1)\n",
            "Requirement already satisfied: MarkupSafe>=2.0 in /usr/local/lib/python3.10/dist-packages (from jinja2->altair<6,>=4.0->streamlit) (3.0.2)\n",
            "Requirement already satisfied: attrs>=22.2.0 in /usr/local/lib/python3.10/dist-packages (from jsonschema>=3.0->altair<6,>=4.0->streamlit) (24.3.0)\n",
            "Requirement already satisfied: jsonschema-specifications>=2023.03.6 in /usr/local/lib/python3.10/dist-packages (from jsonschema>=3.0->altair<6,>=4.0->streamlit) (2024.10.1)\n",
            "Requirement already satisfied: referencing>=0.28.4 in /usr/local/lib/python3.10/dist-packages (from jsonschema>=3.0->altair<6,>=4.0->streamlit) (0.35.1)\n",
            "Requirement already satisfied: rpds-py>=0.7.1 in /usr/local/lib/python3.10/dist-packages (from jsonschema>=3.0->altair<6,>=4.0->streamlit) (0.22.3)\n",
            "Requirement already satisfied: mdurl~=0.1 in /usr/local/lib/python3.10/dist-packages (from markdown-it-py>=2.2.0->rich<14,>=10.14.0->streamlit) (0.1.2)\n",
            "Requirement already satisfied: six>=1.5 in /usr/local/lib/python3.10/dist-packages (from python-dateutil>=2.8.2->pandas<3,>=1.4.0->streamlit) (1.17.0)\n",
            "Downloading streamlit-1.41.1-py2.py3-none-any.whl (9.1 MB)\n",
            "\u001b[2K   \u001b[90m━━━━━━━━━━━━━━━━━━━━━━━━━━━━━━━━━━━━━━━━\u001b[0m \u001b[32m9.1/9.1 MB\u001b[0m \u001b[31m62.2 MB/s\u001b[0m eta \u001b[36m0:00:00\u001b[0m\n",
            "\u001b[?25hDownloading pydeck-0.9.1-py2.py3-none-any.whl (6.9 MB)\n",
            "\u001b[2K   \u001b[90m━━━━━━━━━━━━━━━━━━━━━━━━━━━━━━━━━━━━━━━━\u001b[0m \u001b[32m6.9/6.9 MB\u001b[0m \u001b[31m85.6 MB/s\u001b[0m eta \u001b[36m0:00:00\u001b[0m\n",
            "\u001b[?25hDownloading watchdog-6.0.0-py3-none-manylinux2014_x86_64.whl (79 kB)\n",
            "\u001b[2K   \u001b[90m━━━━━━━━━━━━━━━━━━━━━━━━━━━━━━━━━━━━━━━━\u001b[0m \u001b[32m79.1/79.1 kB\u001b[0m \u001b[31m5.4 MB/s\u001b[0m eta \u001b[36m0:00:00\u001b[0m\n",
            "\u001b[?25hInstalling collected packages: watchdog, pydeck, streamlit\n",
            "Successfully installed pydeck-0.9.1 streamlit-1.41.1 watchdog-6.0.0\n",
            "\u001b[1G\u001b[0K⠙\u001b[1G\u001b[0K⠹\u001b[1G\u001b[0K⠸\u001b[1G\u001b[0K⠼\u001b[1G\u001b[0K⠴\u001b[1G\u001b[0K⠦\u001b[1G\u001b[0K⠧\u001b[1G\u001b[0K⠇\u001b[1G\u001b[0K⠏\u001b[1G\u001b[0K⠋\u001b[1G\u001b[0K⠙\u001b[1G\u001b[0K⠹\u001b[1G\u001b[0K⠸\u001b[1G\u001b[0K⠼\u001b[1G\u001b[0K⠴\u001b[1G\u001b[0K⠦\u001b[1G\u001b[0K⠧\u001b[1G\u001b[0K⠇\u001b[1G\u001b[0K⠏\u001b[1G\u001b[0K⠋\u001b[1G\u001b[0K⠙\u001b[1G\u001b[0K⠹\u001b[1G\u001b[0K⠸\u001b[1G\u001b[0K⠼\u001b[1G\u001b[0K⠴\u001b[1G\u001b[0K⠦\u001b[1G\u001b[0K⠧\u001b[1G\u001b[0K⠇\u001b[1G\u001b[0K⠏\u001b[1G\u001b[0K\n",
            "added 22 packages in 4s\n",
            "\u001b[1G\u001b[0K⠏\u001b[1G\u001b[0K\n",
            "\u001b[1G\u001b[0K⠏\u001b[1G\u001b[0K3 packages are looking for funding\n",
            "\u001b[1G\u001b[0K⠏\u001b[1G\u001b[0K  run `npm fund` for details\n",
            "\u001b[1G\u001b[0K⠏\u001b[1G\u001b[0K\u001b[1mnpm\u001b[22m \u001b[96mnotice\u001b[39m\n",
            "\u001b[1mnpm\u001b[22m \u001b[96mnotice\u001b[39m New \u001b[31mmajor\u001b[39m version of npm available! \u001b[31m10.8.2\u001b[39m -> \u001b[34m11.0.0\u001b[39m\n",
            "\u001b[1mnpm\u001b[22m \u001b[96mnotice\u001b[39m Changelog: \u001b[34mhttps://github.com/npm/cli/releases/tag/v11.0.0\u001b[39m\n",
            "\u001b[1mnpm\u001b[22m \u001b[96mnotice\u001b[39m To update run: \u001b[4mnpm install -g npm@11.0.0\u001b[24m\n",
            "\u001b[1mnpm\u001b[22m \u001b[96mnotice\u001b[39m\n",
            "\u001b[1G\u001b[0K⠏\u001b[1G\u001b[0K"
          ]
        }
      ],
      "source": [
        "# Mount Google Drive\n",
        "from google.colab import drive\n",
        "drive.mount('/content/drive')\n",
        "\n",
        "# Install Streamlit and Localtunnel\n",
        "!pip install streamlit\n",
        "!npm install -g localtunnel"
      ]
    },
    {
      "cell_type": "markdown",
      "source": [
        "# **Write the Chatbot Application Code**\n",
        "This section contains the full implementation of the chatbot. The code includes:\n",
        "- Loading intents data from a JSON file.\n",
        "- Preprocessing data using TF-IDF and encoding tags.\n",
        "- Training a Random Forest classifier.\n",
        "- Setting up a Streamlit interface with features such as chat, chat history, model evaluation, and an about page.\n"
      ],
      "metadata": {
        "id": "hmwC817tIO4n"
      }
    },
    {
      "cell_type": "code",
      "source": [
        "# Write the chatbot app to a file\n",
        "app_code = \"\"\"\n",
        "import os\n",
        "import json\n",
        "import random\n",
        "import nltk\n",
        "import streamlit as st\n",
        "import numpy as np\n",
        "from sklearn.feature_extraction.text import TfidfVectorizer\n",
        "from sklearn.ensemble import RandomForestClassifier\n",
        "from sklearn.preprocessing import LabelEncoder\n",
        "from sklearn.model_selection import train_test_split\n",
        "from sklearn.metrics import accuracy_score, classification_report\n",
        "from datetime import datetime\n",
        "\n",
        "# Download necessary NLTK datasets\n",
        "nltk.download('punkt')\n",
        "\n",
        "# Function to load data from the intents file\n",
        "def load_data(file_path):\n",
        "    with open(file_path, 'r') as file:\n",
        "        intents = json.load(file)\n",
        "    patterns, tags, responses = [], [], {}\n",
        "    for intent in intents:\n",
        "        for pattern in intent['patterns']:\n",
        "            patterns.append(pattern)\n",
        "            tags.append(intent['tag'])\n",
        "        responses[intent['tag']] = intent['responses']\n",
        "    return patterns, tags, responses\n",
        "\n",
        "# Function to preprocess data\n",
        "def preprocess_data(patterns, tags):\n",
        "    vectorizer = TfidfVectorizer(max_features=5000, stop_words='english')\n",
        "    label_encoder = LabelEncoder()\n",
        "    x = vectorizer.fit_transform(patterns)\n",
        "    y = label_encoder.fit_transform(tags)\n",
        "    return x, y, vectorizer, label_encoder\n",
        "\n",
        "# Chatbot prediction function\n",
        "def chatbot(input_text, clf, vectorizer, label_encoder, responses):\n",
        "    input_vector = vectorizer.transform([input_text])\n",
        "    predicted_tag_index = clf.predict(input_vector)[0]\n",
        "    predicted_tag = label_encoder.inverse_transform([predicted_tag_index])[0]\n",
        "    return random.choice(responses.get(predicted_tag, [\"I'm not sure how to respond to that.\"]))\n",
        "\n",
        "# Streamlit Chat Interface\n",
        "def display_chat():\n",
        "    st.title(\"Enhanced Intent-Based Chatbot\")\n",
        "\n",
        "    # Sidebar menu\n",
        "    menu = [\"Home\", \"Chat History\", \"Model Evaluation\", \"About\"]\n",
        "    choice = st.sidebar.selectbox(\"Menu\", menu)\n",
        "\n",
        "    # Initialize chat history\n",
        "    if 'chat_history' not in st.session_state:\n",
        "        st.session_state['chat_history'] = []\n",
        "\n",
        "    # Load data and train model\n",
        "    patterns, tags, responses = load_data('/content/drive/My Drive/intents.json')\n",
        "    x, y, vectorizer, label_encoder = preprocess_data(patterns, tags)\n",
        "    X_train, X_test, y_train, y_test = train_test_split(x, y, test_size=0.2, random_state=42)\n",
        "    clf = RandomForestClassifier(n_estimators=200, random_state=42)\n",
        "    clf.fit(X_train, y_train)\n",
        "\n",
        "    if choice == \"Home\":\n",
        "        st.write(\"Welcome! Ask the chatbot a question.\")\n",
        "        input_container = st.empty()\n",
        "\n",
        "        with input_container.container():\n",
        "            user_input = st.text_input(\"You:\", key=\"user_input\", placeholder=\"Type your message here...\")\n",
        "            send_button = st.button(\"Send\")\n",
        "\n",
        "        if user_input or send_button:\n",
        "            if user_input:\n",
        "                response = chatbot(user_input, clf, vectorizer, label_encoder, responses)\n",
        "                st.session_state['chat_history'].append({\n",
        "                    \"user\": user_input,\n",
        "                    \"chatbot\": response,\n",
        "                    \"timestamp\": datetime.now().strftime(\"%Y-%m-%d %H:%M:%S\")\n",
        "                })\n",
        "                st.write(f\"You: {user_input}\")\n",
        "                st.write(f\"Chatbot: {response}\")\n",
        "\n",
        "    elif choice == \"Chat History\":\n",
        "        st.subheader(\"Chat History\")\n",
        "        if st.session_state['chat_history']:\n",
        "            for chat in st.session_state['chat_history']:\n",
        "                st.write(f\"**You:** {chat['user']}\")\n",
        "                st.write(f\"**Chatbot:** {chat['chatbot']}\")\n",
        "                st.write(f\"**Timestamp:** {chat['timestamp']}\")\n",
        "                st.markdown(\"---\")\n",
        "        else:\n",
        "            st.write(\"No chat history available.\")\n",
        "\n",
        "    elif choice == \"Model Evaluation\":\n",
        "        st.subheader(\"Model Evaluation\")\n",
        "        model_accuracy = accuracy_score(y_test, clf.predict(X_test))\n",
        "        classification_rep = classification_report(y_test, clf.predict(X_test))\n",
        "        st.write(f\"Model Accuracy: {model_accuracy * 100:.2f}%\")\n",
        "        st.write(\"### Classification Report\")\n",
        "        st.text(classification_rep)\n",
        "\n",
        "    elif choice == \"About\":\n",
        "        st.write(\"This project is a chatbot built using NLP and Streamlit.\")\n",
        "\n",
        "if __name__ == '__main__':\n",
        "    display_chat()\n",
        "\"\"\""
      ],
      "metadata": {
        "id": "gGQ8VfzmIYZq"
      },
      "execution_count": 2,
      "outputs": []
    },
    {
      "cell_type": "markdown",
      "source": [
        "# **Write to Drive and Verify File Creation**\n",
        "This section writes the app file to drive and ensures that the chatbot application file was successfully written to the specified location in your Google Drive.\n"
      ],
      "metadata": {
        "id": "zZuVH1OCInH7"
      }
    },
    {
      "cell_type": "code",
      "source": [
        "# Save the app code to a Python file\n",
        "with open('/content/drive/My Drive/app.py', 'w') as f:\n",
        "    f.write(app_code)\n",
        "# Verify the file is saved\n",
        "print(\"Chatbot app written to /content/drive/My Drive/app.py\")"
      ],
      "metadata": {
        "colab": {
          "base_uri": "https://localhost:8080/"
        },
        "id": "EYebOZqSIt9h",
        "outputId": "a43dad10-21b3-4a0f-a55d-3f7972eeb4e5"
      },
      "execution_count": 3,
      "outputs": [
        {
          "output_type": "stream",
          "name": "stdout",
          "text": [
            "Chatbot app written to /content/drive/My Drive/app.py\n"
          ]
        }
      ]
    },
    {
      "cell_type": "markdown",
      "source": [
        "# **Set Up Localtunnel Password**\n",
        "This section uses a secure password for Localtunnel to authenticate and establish a connection for exposing the Streamlit app to the public. Ensure that you have the correct credentials to proceed.\n"
      ],
      "metadata": {
        "id": "WId1hF81K0QS"
      }
    },
    {
      "cell_type": "code",
      "source": [
        "# Authenticate with Localtunnel using a password\n",
        "!curl https://loca.lt/mytunnelpassword"
      ],
      "metadata": {
        "colab": {
          "base_uri": "https://localhost:8080/"
        },
        "id": "wXZ6T77CK7ep",
        "outputId": "c00f8d31-5d01-477f-e8cd-6ffb83c9761a"
      },
      "execution_count": 4,
      "outputs": [
        {
          "output_type": "stream",
          "name": "stdout",
          "text": [
            "34.133.209.251"
          ]
        }
      ]
    },
    {
      "cell_type": "markdown",
      "source": [
        "# **Run Streamlit Application**\n",
        "This section starts the Streamlit server to run the chatbot application. The app's logs are redirected to a file in the Colab environment for debugging purposes."
      ],
      "metadata": {
        "id": "yMctYzkkLAEy"
      }
    },
    {
      "cell_type": "code",
      "source": [
        "# Start the Streamlit app\n",
        "!streamlit run /content/drive/My\\ Drive/app.py &>/content/logs.txt &"
      ],
      "metadata": {
        "id": "Mw9aMik0LHvf"
      },
      "execution_count": 5,
      "outputs": []
    },
    {
      "cell_type": "markdown",
      "source": [
        "# **Set Up Localtunnel for Public Access**\n",
        "This section uses Localtunnel to expose the Streamlit app to the public, allowing you to access it via a unique URL."
      ],
      "metadata": {
        "id": "9wBjDQ_mLLUx"
      }
    },
    {
      "cell_type": "code",
      "source": [
        "# Set up localtunnel to expose the app\n",
        "!npx localtunnel --port 8501"
      ],
      "metadata": {
        "colab": {
          "base_uri": "https://localhost:8080/"
        },
        "id": "wZb2gvhtLREE",
        "outputId": "a990e0c6-75fc-4427-faa0-bccdf4247e43"
      },
      "execution_count": 6,
      "outputs": [
        {
          "output_type": "stream",
          "name": "stdout",
          "text": [
            "\u001b[1G\u001b[0K⠙\u001b[1G\u001b[0K⠹\u001b[1G\u001b[0K⠸\u001b[1G\u001b[0K⠼\u001b[1G\u001b[0K⠴\u001b[1G\u001b[0K⠦\u001b[1G\u001b[0K⠧\u001b[1G\u001b[0K⠇\u001b[1G\u001b[0Kyour url is: https://metal-tools-retire.loca.lt\n",
            "^C\n"
          ]
        }
      ]
    },
    {
      "cell_type": "markdown",
      "source": [
        "# **Final Steps**\n",
        "Once all the code sections have been executed, follow these steps to run the Streamlit app:\n",
        "\n",
        "1. **Obtain the Tunnel Password**: After running the Localtunnel password command, you will receive a password for the tunnel. Make sure to copy this password.\n",
        "\n",
        "2. **Access the Tunnel URL**: Localtunnel will provide a unique URL that you can use to access the Streamlit app. Open this URL in your browser.\n",
        "\n",
        "3. **Enter the Tunnel Password**: Paste the tunnel password when prompted.\n",
        "\n",
        "4. **Streamlit App Running**: The Streamlit app should now be live and accessible through the provided URL.\n",
        "\n",
        "**Caution**:\n",
        "- If you encounter a **Bad Gateway** error, try running the Localtunnel setup again or reload the tunnel URL. The app will run fine once the tunnel is properly established.\n"
      ],
      "metadata": {
        "id": "lR04OK2RNUb7"
      }
    }
  ]
}